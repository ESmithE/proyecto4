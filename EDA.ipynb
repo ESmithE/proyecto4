{
 "cells": [
  {
   "cell_type": "markdown",
   "metadata": {},
   "source": [
    "Carga de Librerias"
   ]
  },
  {
   "cell_type": "code",
   "execution_count": 1,
   "metadata": {},
   "outputs": [],
   "source": [
    "import pandas as pd\n",
    "import plotly.express as px\n",
    "import streamlit as st"
   ]
  },
  {
   "cell_type": "markdown",
   "metadata": {},
   "source": [
    "Desarrollo del cuadro de mandos de la aplicación web"
   ]
  },
  {
   "cell_type": "code",
   "execution_count": 3,
   "metadata": {},
   "outputs": [],
   "source": [
    "# Histograma con boton \n",
    "        \n",
    "car_data = pd.read_csv('vehicles_us.csv') # leer los datos\n",
    "hist_button = st.button('Construir histograma') # crear un botón\n",
    "        \n",
    "if hist_button: # al hacer clic en el botón\n",
    "    # escribir un mensaje\n",
    "    st.write('Creación de un histograma para el conjunto de datos de anuncios de venta de coches')\n",
    "            \n",
    "    # crear un histograma\n",
    "    fig = px.histogram(car_data, x=\"odometer\")\n",
    "        \n",
    "    # mostrar un gráfico Plotly interactivo\n",
    "    st.plotly_chart(fig, use_container_width=True)\n",
    "\n",
    "\n",
    "# crear una casilla de verificación\n",
    "build_histogram = st.checkbox('Construir un histograma')\n",
    "\n",
    "if build_histogram: # si la casilla de verificación está seleccionada\n",
    "    st.write('Construir un histograma para la columna odómetro')"
   ]
  }
 ],
 "metadata": {
  "kernelspec": {
   "display_name": "base",
   "language": "python",
   "name": "python3"
  },
  "language_info": {
   "codemirror_mode": {
    "name": "ipython",
    "version": 3
   },
   "file_extension": ".py",
   "mimetype": "text/x-python",
   "name": "python",
   "nbconvert_exporter": "python",
   "pygments_lexer": "ipython3",
   "version": "3.11.5"
  }
 },
 "nbformat": 4,
 "nbformat_minor": 2
}
